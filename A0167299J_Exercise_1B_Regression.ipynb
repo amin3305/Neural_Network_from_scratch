{
  "nbformat": 4,
  "nbformat_minor": 0,
  "metadata": {
    "colab": {
      "name": "A0167299J: Exercise 1B - Regression",
      "provenance": [],
      "collapsed_sections": [],
      "toc_visible": true
    },
    "kernelspec": {
      "name": "python3",
      "display_name": "Python 3"
    }
  },
  "cells": [
    {
      "cell_type": "markdown",
      "metadata": {
        "id": "oxDeeilHYns8",
        "colab_type": "text"
      },
      "source": [
        "### Project Allocation\n",
        "\n",
        "Enter your matric number and run this cell (shift+enter) to check project allocated"
      ]
    },
    {
      "cell_type": "code",
      "metadata": {
        "id": "Ga9NIEqWQE6F",
        "colab_type": "code",
        "cellView": "both",
        "outputId": "6dd8d416-2ea0-442f-a491-0e62872b4331",
        "colab": {
          "base_uri": "https://localhost:8080/",
          "height": 67
        }
      },
      "source": [
        "matric_number = \"A0167299J\" #@param {type:\"string\"}\n",
        "\n",
        "try:\n",
        "    idx = int(list(filter(str.isdigit, matric_number))[-1])%2\n",
        "\n",
        "    if idx == 0:\n",
        "        print('Matric Number:', matric_number)\n",
        "        print('Project      : 1A-Classification')\n",
        "        print('https://colab.research.google.com/drive/1v-LiHThlLFF7bm8n64nh8lieAM2jA7lz?usp=sharing')\n",
        "    elif idx == 1:\n",
        "        print('Matric Number: ', matric_number)\n",
        "        print('Project      : 1B-Regression')\n",
        "        print('https://colab.research.google.com/drive/1Psi1UXp53t3_fMj8t0uIu4rubbV2wRCl?usp=sharing')\n",
        "\n",
        "except IndexError:\n",
        "    print(\"Please enter valid matric number and try again\")"
      ],
      "execution_count": 17,
      "outputs": [
        {
          "output_type": "stream",
          "text": [
            "Matric Number:  A0167299J\n",
            "Project      : 1B-Regression\n",
            "https://colab.research.google.com/drive/1Psi1UXp53t3_fMj8t0uIu4rubbV2wRCl?usp=sharing\n"
          ],
          "name": "stdout"
        }
      ]
    },
    {
      "cell_type": "markdown",
      "metadata": {
        "id": "nVFfA7vnrFmX",
        "colab_type": "text"
      },
      "source": [
        "### Introduction\n",
        "\n",
        "**EE4305 (2020): Exercise 1B: Regression using Boston housing dataset**\n",
        "\n",
        "---\n",
        "In this exercise you will learn basics of implementing an ANN-based regression model using TensorFlow and Keras libraries in Python. Following are the learning outcomes of this exercise:\n",
        "\n",
        "*   Ability to implement a neural network based regression model in Keras\n",
        "*   Train and predict using the model\n",
        "*   Evaluate model performance\n",
        "*   Understand the effect of various model parameters\n",
        "*   Propose means to improve model performance\n",
        "*   Perform data analytics and visualize outcomes \n",
        "\n",
        "Below the code skeleton is provided to help you with setting up the required options. Look for code cells describing the problems that each student needs to solve.\n",
        "\n",
        "More details about the dataset can be found [here](https://www.cs.toronto.edu/~delve/data/boston/bostonDetail.html)\n"
      ]
    },
    {
      "cell_type": "markdown",
      "metadata": {
        "id": "d72iCH0EVd0I",
        "colab_type": "text"
      },
      "source": [
        "### Instructions for using the Notebook\n",
        "\n",
        "If you have prior experience using Jupyter Notebooks, Colab is very similar. Please refer to the **Help** menu for FAQs. **Tools** menu provides useful information on commands and keyboard shortcuts. You may use the **Table of contents** menu on the left hand side to easily navigate between sections.\n",
        "\n",
        "---\n",
        "**VERY IMPORTANT: DO NOT MODIFY this file. Make a copy from the File menu and modify your version. You may use your matric number to name the file. For example, \"A0140410A: Exercise 1A - Classification\"**\n",
        "\n",
        "---\n",
        "\n",
        "The code skeleton provided is just a template. Feel free to modify/ improve any of the cells and scripts if you would prefer to implement them differently. If you have a local notebook environment with required packages, you may also download the notebook from **File** menu and run the script locally. Feel free to input additional **code** cells or **text** cells to present your solutions.\n",
        "\n",
        "### Submission\n",
        "\n",
        "For submission, download the notebook in '*.ipynb' format and submit in LumiNUS. Make sure all outputs are present under each cells (Especially for solution cells). Ensure you name the file appropriately as mentioned above."
      ]
    },
    {
      "cell_type": "markdown",
      "metadata": {
        "id": "iYIMQF0DuBVN",
        "colab_type": "text"
      },
      "source": [
        "### Import libraries\n",
        "\n",
        "Following libraries are required for the implementation. Additional libraries may be imported as needed for specific tasks.\n",
        "\n",
        "*   numpy, pandas: For data storage and manipulation\n",
        "*   matplotlib, seaborn: Plotting and visualization\n",
        "*   tensorflow: Low-level library for machine learning implementations\n",
        "*   keras: High-level library to import datasets and implement ANN model\n",
        "*   sklearn: Data preprocessing, model evaluation metrics\n",
        "\n"
      ]
    },
    {
      "cell_type": "code",
      "metadata": {
        "id": "oBo5rUo5vfn1",
        "colab_type": "code",
        "colab": {}
      },
      "source": [
        "import numpy as np\n",
        "import pandas as pd"
      ],
      "execution_count": 0,
      "outputs": []
    },
    {
      "cell_type": "code",
      "metadata": {
        "id": "lQtTgdgCvfVT",
        "colab_type": "code",
        "colab": {}
      },
      "source": [
        "import matplotlib.pyplot as plt\n",
        "import seaborn as sns"
      ],
      "execution_count": 0,
      "outputs": []
    },
    {
      "cell_type": "code",
      "metadata": {
        "id": "dmtRv32JvfFt",
        "colab_type": "code",
        "colab": {}
      },
      "source": [
        "from tensorflow.keras.datasets import boston_housing\n",
        "\n",
        "import tensorflow as tf\n",
        "import tensorflow.keras.backend as K\n",
        "\n",
        "from tensorflow.keras.models import Model\n",
        "from tensorflow.keras.layers import Input, Dense, Dropout\n",
        "from tensorflow.keras.regularizers import l2, L1L2\n",
        "\n",
        "from tensorflow.keras import callbacks\n",
        "\n",
        "from tensorflow.keras.utils import to_categorical"
      ],
      "execution_count": 0,
      "outputs": []
    },
    {
      "cell_type": "code",
      "metadata": {
        "id": "fcMPWuURvesj",
        "colab_type": "code",
        "colab": {}
      },
      "source": [
        "from sklearn.preprocessing import MinMaxScaler\n",
        "from sklearn.preprocessing import StandardScaler\n",
        "from sklearn.metrics import mean_squared_error as skmse"
      ],
      "execution_count": 0,
      "outputs": []
    },
    {
      "cell_type": "markdown",
      "metadata": {
        "id": "p-2csuc-wYkq",
        "colab_type": "text"
      },
      "source": [
        "### Load Data\n",
        "\n",
        "Keras provides an easy to use API to load popular machine learning datasets. For this problem we use the MNIST digits dataset.\n",
        "\n"
      ]
    },
    {
      "cell_type": "code",
      "metadata": {
        "id": "4zFtKqAlDvlv",
        "colab_type": "code",
        "outputId": "319774a8-d499-4dc4-87af-37e506a8d7f5",
        "colab": {
          "base_uri": "https://localhost:8080/",
          "height": 366
        }
      },
      "source": [
        "(xtr, ytr), (xte, yte) = boston_housing.load_data()\n",
        "\n",
        "print('Data Shapes')\n",
        "print('Training data - xtr:{}, ytr:{}'.format(xtr.shape, ytr.shape))\n",
        "print('Testing data - xte:{}, yte:{}\\n'.format(xte.shape, yte.shape))\n",
        "\n",
        "# Visualize distribution of input features and output data\n",
        "\n",
        "fig, axs = plt.subplots(ncols=7, nrows=2, figsize=(16, 4))\n",
        "\n",
        "for i, ax in enumerate(axs.flatten()):\n",
        "    if i < xtr.shape[1]:\n",
        "        sns.distplot(xtr[:,i], ax=ax)\n",
        "        ax.legend(['x{}'.format(i)])\n",
        "    if i == xtr.shape[1]:\n",
        "        sns.distplot(ytr, ax=ax, color='orange')\n",
        "        ax.legend(['y'])\n",
        "\n",
        "plt.tight_layout(pad=0.4, w_pad=0.5, h_pad=0.5)"
      ],
      "execution_count": 22,
      "outputs": [
        {
          "output_type": "stream",
          "text": [
            "Data Shapes\n",
            "Training data - xtr:(404, 13), ytr:(404,)\n",
            "Testing data - xte:(102, 13), yte:(102,)\n",
            "\n"
          ],
          "name": "stdout"
        },
        {
          "output_type": "display_data",
          "data": {
            "image/png": "[encoded data removed]",
            "text/plain": [
              "<Figure size 1152x288 with 14 Axes>"
            ]
          },
          "metadata": {
            "tags": [],
            "needs_background": "light"
          }
        }
      ]
    },
    {
      "cell_type": "markdown",
      "metadata": {
        "id": "lYHDDLPrFwAU",
        "colab_type": "text"
      },
      "source": [
        "### Data Preparation\n",
        "\n",
        "Input data consists of 13 features that describe the aspects of a house and the region. Output labels indicate the median pricing. For neural networks based regression data needs to be normalized"
      ]
    },
    {
      "cell_type": "markdown",
      "metadata": {
        "id": "SzY5sAlT0V79",
        "colab_type": "text"
      },
      "source": [
        "---\n",
        "### Problem I\n",
        "\n",
        "1.   What is the correct range of the input and output values for normalization? Why? Implement normalization code in the cell below. \n",
        "\n",
        "```\n",
        "Hint: refer to sklearn.preprocessing - StandardScaler, MinMaxScaler.\n",
        "Hint: Choice of normalization range may be impacted by the choice of activation functions in the model.\n",
        "```\n",
        "---"
      ]
    },
    {
      "cell_type": "code",
      "metadata": {
        "id": "GC3zmBPh11Dj",
        "colab_type": "code",
        "colab": {}
      },
      "source": [
        "# Code for input data normalization and output one-hot encoding\n",
        "# You may directly use available helper functions from sklearn and keras or implement your own function\n",
        "#scaler = StandardScaler() \n",
        "\n",
        "xscaler = MinMaxScaler(feature_range=(-1,1))\n",
        "xtr_norm = xscaler.fit_transform(xtr)\n",
        "xte_norm = xscaler.transform(xte)\n",
        "\n",
        "yscaler = MinMaxScaler()\n",
        "ytr_norm = yscaler.fit_transform(ytr.reshape(-1,1))\n",
        "yte_norm = yscaler.transform(yte.reshape(-1,1))"
      ],
      "execution_count": 0,
      "outputs": []
    },
    {
      "cell_type": "code",
      "metadata": {
        "id": "L2uXPDs4pR23",
        "colab_type": "code",
        "colab": {
          "base_uri": "https://localhost:8080/",
          "height": 50
        },
        "outputId": "4b3a14cd-1b70-4c6b-e2b7-da5c0e36c2c7"
      },
      "source": [
        "print(\"Original x range (min,max): \", np.min(xtr), np.max(xtr))\n",
        "print(\"Normalized x range (min,max): \", np.min(xtr_norm), np.max(xtr_norm))"
      ],
      "execution_count": 24,
      "outputs": [
        {
          "output_type": "stream",
          "text": [
            "Original x range (min,max):  0.0 711.0\n",
            "Normalized x range (min,max):  -1.0000000000000002 1.0000000000000002\n"
          ],
          "name": "stdout"
        }
      ]
    },
    {
      "cell_type": "markdown",
      "metadata": {
        "id": "NuHakLI13Yod",
        "colab_type": "text"
      },
      "source": [
        "### Define Model\n",
        "\n",
        "Below we define a baseline ANN-based model. Dense layers are fully connected layers in Keras used to define a standard MLP. Notice that the output layer contains 1 neuron for output prediction. Output uses 'linear' activation as this is a regression problem.\n",
        "\n",
        "\n",
        "Number of layers, neurons and activations for hidden layers can be customized\n",
        "\n",
        "The function returns a Keras model that can be used to train, predict, and evaluate using in-built functions."
      ]
    },
    {
      "cell_type": "code",
      "metadata": {
        "id": "sW6D8p90VxIL",
        "colab_type": "code",
        "colab": {}
      },
      "source": [
        "def get_model(input_shape):\n",
        "  input_data = Input(shape=input_shape)\n",
        "\n",
        "  d1 = Dense(16, activation='tanh')(input_data)\n",
        "  d2 = Dense(8, activation='tanh')(d1)\n",
        "  #dr2 = Dropout(0.5)(d2)\n",
        "  d3 = Dense(1, activation='linear')(d2)\n",
        "\n",
        "  model = Model(inputs=[input_data], outputs=[d3])\n",
        "\n",
        "  return model"
      ],
      "execution_count": 0,
      "outputs": []
    },
    {
      "cell_type": "markdown",
      "metadata": {
        "id": "jLXUdeMr4acN",
        "colab_type": "text"
      },
      "source": [
        "---\n",
        "### Problem II\n",
        "\n",
        "1.   Compile and train the model using in-built functions in Keras\n",
        "\n",
        "```\n",
        "# Use compile to set following parameters:\n",
        "#  - optimizer = adam, sgd, rmsprop\n",
        "#  - loss = mean_squared_error\n",
        "\n",
        "compile(\n",
        "    optimizer='rmsprop', loss=None, metrics=None, loss_weights=None,\n",
        "    sample_weight_mode=None, weighted_metrics=None, **kwargs\n",
        "    )\n",
        "\n",
        "# Use fit to train the model. Configure following parameters:\n",
        "#  - x,y: input data and label\n",
        "#  - batch_size: minibatch size, for example, 1, 16, 32, 100\n",
        "#  - epochs: between 10-100\n",
        "#  - validation_split: percentage of training data for validation (eg. 0.1)\n",
        "\n",
        "fit(\n",
        "    x=None, y=None, batch_size=None, epochs=1, verbose=1, callbacks=None,\n",
        "    validation_split=0.0, validation_data=None, shuffle=True, class_weight=None,\n",
        "    sample_weight=None, initial_epoch=0, steps_per_epoch=None,\n",
        "    validation_steps=None, validation_batch_size=None, validation_freq=1,\n",
        "    max_queue_size=10, workers=1, use_multiprocessing=False\n",
        ")\n",
        "```\n",
        "[Compile API](https://www.tensorflow.org/api_docs/python/tf/keras/Model#compile)\n",
        "\n",
        "[Fit API](https://www.tensorflow.org/api_docs/python/tf/keras/Model#fit)\n"
      ]
    },
    {
      "cell_type": "markdown",
      "metadata": {
        "id": "9c_nVxQGA5QD",
        "colab_type": "text"
      },
      "source": [
        "2.   Predict output for test data using trained model and evaluate model performance\n",
        "\n",
        "\n",
        "\n",
        "```\n",
        "# Use predict function. Most parameters can be left as default. Pass normalized input features for output prediction\n",
        "\n",
        "predict(\n",
        "    x, batch_size=None, verbose=0, steps=None, callbacks=None, max_queue_size=10, \n",
        "    workers=1, use_multiprocessing=False\n",
        ")\n",
        "\n",
        "```\n",
        "\n",
        "[Predict API](https://www.tensorflow.org/api_docs/python/tf/keras/Model#predict)\n",
        "\n",
        "Note that the output from the model is normalized. Transform the prediction to original scale before evaluating model performance.\n",
        "\n",
        "For example:\n",
        "\n",
        "```\n",
        "# sklearn.preprocessing API provides function to reverse the normalization. HINT: inverse_transform()\n",
        "```\n",
        "---"
      ]
    },
    {
      "cell_type": "code",
      "metadata": {
        "id": "u3NcQv9VWBTp",
        "colab_type": "code",
        "colab": {}
      },
      "source": [
        "# Code for model training here\n",
        "\n",
        "model = get_model(xtr_norm.shape[1:])\n",
        "#model.summary()"
      ],
      "execution_count": 0,
      "outputs": []
    },
    {
      "cell_type": "code",
      "metadata": {
        "id": "b0T99xPC1E73",
        "colab_type": "code",
        "colab": {
          "base_uri": "https://localhost:8080/",
          "height": 1000
        },
        "outputId": "4c0ade93-eea4-4fd3-e41c-5ece59f415ba"
      },
      "source": [
        "model.compile(optimizer='adam', loss='mse')\n",
        "model.fit(xtr_norm, ytr_norm, batch_size=8, epochs= 50, validation_split=0.1)\n"
      ],
      "execution_count": 27,
      "outputs": [
        {
          "output_type": "stream",
          "text": [
            "Epoch 1/50\n",
            "46/46 [==============================] - 0s 3ms/step - loss: 0.1314 - val_loss: 0.0502\n",
            "Epoch 2/50\n",
            "46/46 [==============================] - 0s 2ms/step - loss: 0.0639 - val_loss: 0.0373\n",
            "Epoch 3/50\n",
            "46/46 [==============================] - 0s 2ms/step - loss: 0.0454 - val_loss: 0.0305\n",
            "Epoch 4/50\n",
            "46/46 [==============================] - 0s 2ms/step - loss: 0.0340 - val_loss: 0.0254\n",
            "Epoch 5/50\n",
            "46/46 [==============================] - 0s 2ms/step - loss: 0.0280 - val_loss: 0.0214\n",
            "Epoch 6/50\n",
            "46/46 [==============================] - 0s 2ms/step - loss: 0.0215 - val_loss: 0.0179\n",
            "Epoch 7/50\n",
            "46/46 [==============================] - 0s 2ms/step - loss: 0.0183 - val_loss: 0.0167\n",
            "Epoch 8/50\n",
            "46/46 [==============================] - 0s 2ms/step - loss: 0.0161 - val_loss: 0.0145\n",
            "Epoch 9/50\n",
            "46/46 [==============================] - 0s 2ms/step - loss: 0.0143 - val_loss: 0.0143\n",
            "Epoch 10/50\n",
            "46/46 [==============================] - 0s 2ms/step - loss: 0.0131 - val_loss: 0.0131\n",
            "Epoch 11/50\n",
            "46/46 [==============================] - 0s 2ms/step - loss: 0.0129 - val_loss: 0.0125\n",
            "Epoch 12/50\n",
            "46/46 [==============================] - 0s 2ms/step - loss: 0.0118 - val_loss: 0.0122\n",
            "Epoch 13/50\n",
            "46/46 [==============================] - 0s 2ms/step - loss: 0.0111 - val_loss: 0.0105\n",
            "Epoch 14/50\n",
            "46/46 [==============================] - 0s 2ms/step - loss: 0.0106 - val_loss: 0.0114\n",
            "Epoch 15/50\n",
            "46/46 [==============================] - 0s 2ms/step - loss: 0.0103 - val_loss: 0.0108\n",
            "Epoch 16/50\n",
            "46/46 [==============================] - 0s 2ms/step - loss: 0.0099 - val_loss: 0.0116\n",
            "Epoch 17/50\n",
            "46/46 [==============================] - 0s 2ms/step - loss: 0.0092 - val_loss: 0.0101\n",
            "Epoch 18/50\n",
            "46/46 [==============================] - 0s 2ms/step - loss: 0.0091 - val_loss: 0.0100\n",
            "Epoch 19/50\n",
            "46/46 [==============================] - 0s 2ms/step - loss: 0.0088 - val_loss: 0.0101\n",
            "Epoch 20/50\n",
            "46/46 [==============================] - 0s 2ms/step - loss: 0.0085 - val_loss: 0.0099\n",
            "Epoch 21/50\n",
            "46/46 [==============================] - 0s 2ms/step - loss: 0.0081 - val_loss: 0.0084\n",
            "Epoch 22/50\n",
            "46/46 [==============================] - 0s 2ms/step - loss: 0.0081 - val_loss: 0.0080\n",
            "Epoch 23/50\n",
            "46/46 [==============================] - 0s 2ms/step - loss: 0.0078 - val_loss: 0.0080\n",
            "Epoch 24/50\n",
            "46/46 [==============================] - 0s 2ms/step - loss: 0.0079 - val_loss: 0.0078\n",
            "Epoch 25/50\n",
            "46/46 [==============================] - 0s 2ms/step - loss: 0.0074 - val_loss: 0.0078\n",
            "Epoch 26/50\n",
            "46/46 [==============================] - 0s 2ms/step - loss: 0.0077 - val_loss: 0.0077\n",
            "Epoch 27/50\n",
            "46/46 [==============================] - 0s 2ms/step - loss: 0.0071 - val_loss: 0.0085\n",
            "Epoch 28/50\n",
            "46/46 [==============================] - 0s 2ms/step - loss: 0.0069 - val_loss: 0.0079\n",
            "Epoch 29/50\n",
            "46/46 [==============================] - 0s 2ms/step - loss: 0.0068 - val_loss: 0.0076\n",
            "Epoch 30/50\n",
            "46/46 [==============================] - 0s 2ms/step - loss: 0.0066 - val_loss: 0.0063\n",
            "Epoch 31/50\n",
            "46/46 [==============================] - 0s 2ms/step - loss: 0.0067 - val_loss: 0.0073\n",
            "Epoch 32/50\n",
            "46/46 [==============================] - 0s 2ms/step - loss: 0.0068 - val_loss: 0.0088\n",
            "Epoch 33/50\n",
            "46/46 [==============================] - 0s 2ms/step - loss: 0.0064 - val_loss: 0.0078\n",
            "Epoch 34/50\n",
            "46/46 [==============================] - 0s 2ms/step - loss: 0.0064 - val_loss: 0.0082\n",
            "Epoch 35/50\n",
            "46/46 [==============================] - 0s 2ms/step - loss: 0.0063 - val_loss: 0.0078\n",
            "Epoch 36/50\n",
            "46/46 [==============================] - 0s 2ms/step - loss: 0.0061 - val_loss: 0.0063\n",
            "Epoch 37/50\n",
            "46/46 [==============================] - 0s 2ms/step - loss: 0.0061 - val_loss: 0.0073\n",
            "Epoch 38/50\n",
            "46/46 [==============================] - 0s 2ms/step - loss: 0.0060 - val_loss: 0.0057\n",
            "Epoch 39/50\n",
            "46/46 [==============================] - 0s 2ms/step - loss: 0.0061 - val_loss: 0.0061\n",
            "Epoch 40/50\n",
            "46/46 [==============================] - 0s 2ms/step - loss: 0.0060 - val_loss: 0.0065\n",
            "Epoch 41/50\n",
            "46/46 [==============================] - 0s 2ms/step - loss: 0.0058 - val_loss: 0.0083\n",
            "Epoch 42/50\n",
            "46/46 [==============================] - 0s 2ms/step - loss: 0.0058 - val_loss: 0.0058\n",
            "Epoch 43/50\n",
            "46/46 [==============================] - 0s 2ms/step - loss: 0.0059 - val_loss: 0.0058\n",
            "Epoch 44/50\n",
            "46/46 [==============================] - 0s 2ms/step - loss: 0.0057 - val_loss: 0.0057\n",
            "Epoch 45/50\n",
            "46/46 [==============================] - 0s 2ms/step - loss: 0.0057 - val_loss: 0.0053\n",
            "Epoch 46/50\n",
            "46/46 [==============================] - 0s 2ms/step - loss: 0.0057 - val_loss: 0.0057\n",
            "Epoch 47/50\n",
            "46/46 [==============================] - 0s 2ms/step - loss: 0.0056 - val_loss: 0.0057\n",
            "Epoch 48/50\n",
            "46/46 [==============================] - 0s 2ms/step - loss: 0.0058 - val_loss: 0.0065\n",
            "Epoch 49/50\n",
            "46/46 [==============================] - 0s 2ms/step - loss: 0.0056 - val_loss: 0.0055\n",
            "Epoch 50/50\n",
            "46/46 [==============================] - 0s 2ms/step - loss: 0.0056 - val_loss: 0.0064\n"
          ],
          "name": "stdout"
        },
        {
          "output_type": "execute_result",
          "data": {
            "text/plain": [
              "<tensorflow.python.keras.callbacks.History at 0x7f260fcf07f0>"
            ]
          },
          "metadata": {
            "tags": []
          },
          "execution_count": 27
        }
      ]
    },
    {
      "cell_type": "code",
      "metadata": {
        "id": "7Ra0s_4qWwnh",
        "colab_type": "code",
        "outputId": "98985977-9112-4985-826e-98715cf75665",
        "colab": {
          "base_uri": "https://localhost:8080/",
          "height": 34
        }
      },
      "source": [
        "# Code for prediction here\n",
        "\n",
        "yte_pred_norm = model.predict(xte_norm)\n",
        "yte_pred = yscaler.inverse_transform(yte_pred_norm)\n",
        "\n",
        "rmse = np.sqrt(skmse(yte, yte_pred))\n",
        "print(\"Baseline model RMSE: \", rmse)"
      ],
      "execution_count": 28,
      "outputs": [
        {
          "output_type": "stream",
          "text": [
            "Baseline model RMSE:  4.2486867339641075\n"
          ],
          "name": "stdout"
        }
      ]
    },
    {
      "cell_type": "code",
      "metadata": {
        "id": "I0oqDJR67W1Q",
        "colab_type": "code",
        "colab": {}
      },
      "source": [
        "#print(\"before yte inverse: \", yte_pred_norm)\n",
        "#print(\"after yte inverse: \", yte_pred)"
      ],
      "execution_count": 0,
      "outputs": []
    },
    {
      "cell_type": "markdown",
      "metadata": {
        "id": "aSqJ8SfZE3-x",
        "colab_type": "text"
      },
      "source": [
        "---\n",
        "### Problem III\n",
        "\n",
        "The baseline model is expected to have a test rmse of around 4.00. Can you propose at least 5 methods to improve the model to achieve better performance?\n",
        "\n",
        "Implement the 5 variants and present your results in the cell below. Explain why each variant performs better/ worse than the baseline.\n",
        "\n",
        "```\n",
        "Hint: Following are some of the model configurations that can be modified:\n",
        "```\n",
        "\n",
        "1.   Batch size, number of epochs, validation split, optimizer, learning rate\n",
        "2.   Model depth, dropout layers, activations, regularizations\n",
        "3.   Advanced: Model callbacks to control early stopping, learning rate decay, model checkpoints\n",
        "\n",
        "---"
      ]
    },
    {
      "cell_type": "markdown",
      "metadata": {
        "id": "-DBI7GOzGDPl",
        "colab_type": "text"
      },
      "source": [
        "### Solution here\n",
        "\n",
        "| Model         | Parameters Tuned                            | Accuracy  |\n",
        "| ------------- |---------------------------------------------| ---------:|\n",
        "| Baseline      | Default                                     | 4.25      |\n",
        "| Alpha         | Batch size                                  | 3.85      |\n",
        "| Beta          | Epochs                                  | 3.57     |\n",
        "| Delta         | Dropouts                                        | 4.01   |\n",
        "| Echo          | Optimizer                              |  4.84      |\n",
        "| Gamma         | Activation                             | 3.93      |\n",
        "\n",
        "```\n",
        "# Please remove the examples and update with your own model variants.\n",
        "```"
      ]
    },
    {
      "cell_type": "markdown",
      "metadata": {
        "id": "BDcC736_Penr",
        "colab_type": "text"
      },
      "source": [
        "**batch size changed from 8 to 1**\n",
        "\n",
        "model.fit(xtr_norm, ytr_norm, batch_size=1, epochs= 50, validation_split=0.1)\n",
        "\n",
        "RMSE score of 3.85\n",
        "\n",
        "Batch size controls the accuracy of the estimate of the error gradient when training the model. A smaller batch size offers a regularizing effect and lower generalization error."
      ]
    },
    {
      "cell_type": "markdown",
      "metadata": {
        "id": "QXMMKYdTQKiL",
        "colab_type": "text"
      },
      "source": [
        "**number of epochs changed from 50 to 100**\n",
        "\n",
        "model.fit(xtr_norm, ytr_norm, batch_size=8, epochs= 100, validation_split=0.1)\n",
        "\n",
        "RMSE score of 3.57\n",
        "\n",
        "The model improved with more epochs since it was tuned more frequently with every epoch. However there is a limit to the number of epochs as it will introduce overfitting with high number of epochs."
      ]
    },
    {
      "cell_type": "markdown",
      "metadata": {
        "id": "rLk9Q4_dc5wq",
        "colab_type": "text"
      },
      "source": [
        "**Dropout layer inserted in the model**\n",
        "\n",
        "dr2 = Dropout(0.5)(d2)\n",
        "\n",
        "RMSE score of 4.01\n",
        "\n",
        "Dropout improves accuracy of model by preventing the model from overfitting. However more samples are needed for the dropout layer to have an impact on the accuracy"
      ]
    },
    {
      "cell_type": "markdown",
      "metadata": {
        "id": "5Ya8NCmWdPuZ",
        "colab_type": "text"
      },
      "source": [
        "**Optimizer changed from 'adam' to 'RMSprop'**\n",
        "\n",
        "model.compile(optimizer='RMSprop', loss='mse')\n",
        "\n",
        "RMSE score of 4.84\n",
        "\n",
        "RMSprop has a learning rate of 0.001 compared to adam which has a learning rate of 0.01 so the adam optimizer makes the model learn at a faster rate which makes it more accurate at fewer epochs"
      ]
    },
    {
      "cell_type": "markdown",
      "metadata": {
        "id": "roRSZbMvrAYa",
        "colab_type": "text"
      },
      "source": [
        "**Activation changed from 'tanh' to 'relu'**\n",
        "\n",
        "d1 = Dense(16, activation='relu')(input_data)\n",
        "d2 = Dense(8, activation='relu')(d1)\n",
        "\n",
        "RMSE score of 3.93\n",
        "\n",
        "'relu' allows the model to learn at a faster rate since all negative inputs in the hidden layers will be classified as 0"
      ]
    },
    {
      "cell_type": "markdown",
      "metadata": {
        "id": "dSI_3SZQIeRl",
        "colab_type": "text"
      },
      "source": [
        "---\n",
        "### Problem IV\n",
        "\n",
        "RMSE is the standard metric for evaluating model performance in regression problems. \n",
        "\n",
        "*   Can you propose other measures to evaluate model performance? \n",
        "*   Compute the scores for your models using the proposed metric.\n",
        "*   What are the benefits of using the proposed metric?\n",
        "\n",
        "```\n",
        "HINT: Several popular metrics can be found in the sklearn.metrics library\n",
        "```\n",
        "---"
      ]
    },
    {
      "cell_type": "markdown",
      "metadata": {
        "id": "Fy8I4brgsDzi",
        "colab_type": "text"
      },
      "source": [
        "Use R² or Coefficient of Determination"
      ]
    },
    {
      "cell_type": "code",
      "metadata": {
        "id": "oADi3zgBJ0aB",
        "colab_type": "code",
        "colab": {
          "base_uri": "https://localhost:8080/",
          "height": 34
        },
        "outputId": "5a84be62-ec14-48ee-8f61-d5ac6f523bee"
      },
      "source": [
        "### Problem IV codes here. Add more cells as needed\n",
        "from sklearn.metrics import r2_score\n",
        "\n",
        "r2 = r2_score(yte,yte_pred)\n",
        "print(\"Baseline model R2: \", r2)\n"
      ],
      "execution_count": 30,
      "outputs": [
        {
          "output_type": "stream",
          "text": [
            "Baseline model R2:  0.7831510762135299\n"
          ],
          "name": "stdout"
        }
      ]
    },
    {
      "cell_type": "markdown",
      "metadata": {
        "id": "jcPNpUUQqc-v",
        "colab_type": "text"
      },
      "source": [
        "The benefit of using R2 metrics is that it helps us to compare our current model with a constant baseline and tells us how much our model is better. R2 corresponds to the squared correlation between the observed outcome values and the predicted values by the model. The Higher the R-squared, the better the model with a max value of 1."
      ]
    },
    {
      "cell_type": "markdown",
      "metadata": {
        "id": "M1JcJXl1JKsz",
        "colab_type": "text"
      },
      "source": [
        "---\n",
        "### Bonus\n",
        "\n",
        "Data visualization at various stage helps develop intuition of model performance, cause for errors, and ideas for improvement.\n",
        "\n",
        "*   Can you write scripts to visualize different aspects of the model?\n",
        "\n",
        "```\n",
        "HINT: You can visualize model loss over epochs using the keras model history returned by model.fit(). \n",
        "      Regression, scatter, correlation, and distribution plots are useful to analyze regression data and model performance.\n",
        "```\n",
        "---"
      ]
    },
    {
      "cell_type": "code",
      "metadata": {
        "id": "oKdkt1WAJ7kQ",
        "colab_type": "code",
        "colab": {
          "base_uri": "https://localhost:8080/",
          "height": 282
        },
        "outputId": "5570bc12-e07e-4324-f4bd-bae2bc9b82a3"
      },
      "source": [
        "### Bonus codes here. Add more cells as needed\n",
        "\n",
        "plt.plot(yte)\n",
        "plt.plot(yte_pred)\n",
        "\n"
      ],
      "execution_count": 31,
      "outputs": [
        {
          "output_type": "execute_result",
          "data": {
            "text/plain": [
              "[<matplotlib.lines.Line2D at 0x7f260e3532b0>]"
            ]
          },
          "metadata": {
            "tags": []
          },
          "execution_count": 31
        },
        {
          "output_type": "display_data",
          "data": {
            "image/png": "[encoded data removed]",
            "text/plain": [
              "<Figure size 432x288 with 1 Axes>"
            ]
          },
          "metadata": {
            "tags": [],
            "needs_background": "light"
          }
        }
      ]
    },
    {
      "cell_type": "markdown",
      "metadata": {
        "id": "cn-u65Qio_bu",
        "colab_type": "text"
      },
      "source": [
        "### Have a Feedback?\n",
        "\n",
        "If you have suggestions to improve this notebook, please share your ideas via email to the GA. We are always listening!\n",
        "\n",
        "Thank you."
      ]
    },
    {
      "cell_type": "markdown",
      "metadata": {
        "id": "uQMVEd0qkz7s",
        "colab_type": "text"
      },
      "source": [
        "---\n",
        "\n",
        "End of the Notebook\n",
        "\n",
        "---"
      ]
    }
  ]
}